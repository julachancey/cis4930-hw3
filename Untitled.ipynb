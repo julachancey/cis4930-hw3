{
 "cells": [
  {
   "cell_type": "code",
   "execution_count": 1,
   "id": "6e9fde81",
   "metadata": {},
   "outputs": [],
   "source": [
    "# Julia Chancey\n",
    "# CIS 4930 Multimodal ML\n",
    "# Spring 2023\n",
    "# Homework 3\n",
    "# Audio Classification of 4 emotions"
   ]
  },
  {
   "cell_type": "code",
   "execution_count": 11,
   "id": "a1c273ab",
   "metadata": {},
   "outputs": [],
   "source": [
    "# imports ordered alphabetically\n",
    "import librosa.display\n",
    "import matplotlib.pyplot as plt\n",
    "import os\n",
    "import random\n",
    "import shutil"
   ]
  },
  {
   "cell_type": "code",
   "execution_count": 12,
   "id": "e711992f",
   "metadata": {},
   "outputs": [],
   "source": [
    "# STEP 1: SPLIT DATASET INTO TRAINING AND TESTING SETS"
   ]
  },
  {
   "cell_type": "code",
   "execution_count": 3,
   "id": "1cc66989",
   "metadata": {},
   "outputs": [],
   "source": [
    "# get directory\n",
    "currDir = os.getcwd()\n",
    "dataDir = os.path.join(currDir, \"data\")"
   ]
  },
  {
   "cell_type": "code",
   "execution_count": 4,
   "id": "75226984",
   "metadata": {},
   "outputs": [
    {
     "name": "stdout",
     "output_type": "stream",
     "text": [
      "/Users/julia/cis4930-mulitmodal-ml/hw3/data\n"
     ]
    }
   ],
   "source": [
    "print(dataDir)"
   ]
  },
  {
   "cell_type": "code",
   "execution_count": 5,
   "id": "af1d3201",
   "metadata": {},
   "outputs": [],
   "source": [
    "# categories of emotions\n",
    "emotions = [\"angry\", \"fear\", \"happy\", \"sad\"]"
   ]
  },
  {
   "cell_type": "code",
   "execution_count": 8,
   "id": "7374e649",
   "metadata": {},
   "outputs": [],
   "source": [
    "# go through each emotion dataset\n",
    "for emotion in emotions:\n",
    "    emotionDir = os.path.join(dataDir, emotion)\n",
    "    \n",
    "    # get list of all files within dataset for random selection\n",
    "    files = os.listdir(emotionDir)\n",
    "    trainFiles = random.sample(files, 70)\n",
    "    \n",
    "    # move copy of file into train or test folder\n",
    "    for file in files:\n",
    "        source = os.path.join(emotionDir, file)\n",
    "        \n",
    "        if file in trainFiles:\n",
    "            destination = os.path.join(dataDir, \"train\", emotion)\n",
    "        else:\n",
    "            destination = os.path.join(dataDir, \"test\", emotion)\n",
    "            \n",
    "        path = os.path.join(destination, file)\n",
    "        \n",
    "        os.makedirs(destination, exist_ok=True)\n",
    "        \n",
    "        shutil.copy(source, path)"
   ]
  },
  {
   "cell_type": "code",
   "execution_count": 13,
   "id": "a239617d",
   "metadata": {},
   "outputs": [],
   "source": [
    "# STEP 2: EXPLORATORY DATA ANALYSIS"
   ]
  },
  {
   "cell_type": "code",
   "execution_count": 18,
   "id": "9cbf2729",
   "metadata": {},
   "outputs": [],
   "source": [
    "# sample audio files for visualization\n",
    "trainDir = os.path.join(dataDir, \"train\")\n",
    "testDir = os.path.join(dataDir, \"test\")\n",
    "\n",
    "angryTrainDir = os.path.join(trainDir, \"angry\")\n",
    "angryTestDir = os.path.join(testDir, \"angry\")\n",
    "\n",
    "fearTrainDir = os.path.join(trainDir, \"fear\")\n",
    "fearTestDir = os.path.join(testDir, \"fear\")\n",
    "\n",
    "happyTrainDir = os.path.join(trainDir, \"happy\")\n",
    "happyTestDir = os.path.join(testDir, \"happy\")\n",
    "\n",
    "sadTrainDir = os.path.join(trainDir, \"sad\")\n",
    "sadTestDir = os.path.join(testDir, \"sad\")\n",
    "\n",
    "angryTrainSample = random.sample(os.listdir(angryTrainDir), 5)\n",
    "angryTestSample = random.sample(os.listdir(angryTestDir), 5) \n",
    "\n",
    "fearTrainSample = random.sample(os.listdir(fearTrainDir), 5)\n",
    "fearTestSample = random.sample(os.listdir(fearTestDir), 5) \n",
    "\n",
    "happyTrainSample = random.sample(os.listdir(happyTrainDir), 5)\n",
    "happyTestSample = random.sample(os.listdir(happyTestDir), 5) \n",
    "\n",
    "sadTrainSample = random.sample(os.listdir(sadTrainDir), 5)\n",
    "sadTestSample = random.sample(os.listdir(sadTestDir), 5) "
   ]
  },
  {
   "cell_type": "code",
   "execution_count": 19,
   "id": "d39c4c4c",
   "metadata": {},
   "outputs": [
    {
     "name": "stdout",
     "output_type": "stream",
     "text": [
      "['YAF_page_angry.wav', 'YAF_which_angry.wav', 'YAF_talk_angry.wav', 'YAF_rose_angry.wav', 'YAF_pole_angry.wav']\n"
     ]
    }
   ],
   "source": [
    "print(angryTrainSample)"
   ]
  },
  {
   "cell_type": "code",
   "execution_count": 34,
   "id": "190d2678",
   "metadata": {},
   "outputs": [],
   "source": [
    "def plotData(train_audios, test_audios, train_dir, test_dir):   \n",
    "    for i, (train_audio_file, test_audio_file) in enumerate(zip(train_audios, test_audios)):\n",
    "        # Load the audio data and its sample rate using librosa\n",
    "        train_audio_path = os.path.join(train_dir, train_audio_file)\n",
    "        train_audio_data, train_audio_sr = librosa.load(train_audio_path, sr=None)\n",
    "        test_audio_path = os.path.join(test_dir, test_audio_file)\n",
    "        test_audio_data, test_audio_sr = librosa.load(test_audio_path, sr=None)\n",
    "        \n",
    "        # Visualize the audio data in the time domain using matplotlib\n",
    "        plt.subplot(5, 4, i*4+1)\n",
    "        plt.title(f\"Train Audio {i+1}\")\n",
    "        librosa.display.waveshow(train_audio_data, sr=train_audio_sr)\n",
    "        plt.subplot(5, 4, i*4+2)\n",
    "        plt.title(f\"Test Audio {i+1}\")\n",
    "        librosa.display.waveshow(test_audio_data, sr=test_audio_sr)\n",
    "        \n",
    "        # Visualize the audio data in the frequency domain using librosa\n",
    "        train_stft = librosa.stft(train_audio_data)\n",
    "        train_stft_db = librosa.amplitude_to_db(abs(train_stft))\n",
    "        test_stft = librosa.stft(test_audio_data)\n",
    "        test_stft_db = librosa.amplitude_to_db(abs(test_stft))\n",
    "        plt.subplot(5, 4, i*4+3)\n",
    "        plt.title(f\"Train Audio {i+1}\")\n",
    "        librosa.display.specshow(train_stft_db, sr=train_audio_sr, x_axis='time', y_axis='hz')\n",
    "        plt.colorbar()\n",
    "        plt.subplot(5, 4, i*4+4)\n",
    "        plt.title(f\"Test Audio {i+1}\")\n",
    "        librosa.display.specshow(test_stft_db, sr=test_audio_sr, x_axis='time', y_axis='hz')\n",
    "        plt.colorbar()"
   ]
  },
  {
   "cell_type": "code",
   "execution_count": 35,
   "id": "1a573591",
   "metadata": {},
   "outputs": [
    {
     "ename": "AttributeError",
     "evalue": "module 'matplotlib' has no attribute 'axes'",
     "output_type": "error",
     "traceback": [
      "\u001b[0;31m---------------------------------------------------------------------------\u001b[0m",
      "\u001b[0;31mAttributeError\u001b[0m                            Traceback (most recent call last)",
      "Cell \u001b[0;32mIn[35], line 1\u001b[0m\n\u001b[0;32m----> 1\u001b[0m \u001b[43mplotData\u001b[49m\u001b[43m(\u001b[49m\u001b[43mangryTrainSample\u001b[49m\u001b[43m,\u001b[49m\u001b[43m \u001b[49m\u001b[43mangryTestSample\u001b[49m\u001b[43m,\u001b[49m\u001b[43m \u001b[49m\u001b[43mangryTrainDir\u001b[49m\u001b[43m,\u001b[49m\u001b[43m \u001b[49m\u001b[43mangryTestDir\u001b[49m\u001b[43m)\u001b[49m\n",
      "Cell \u001b[0;32mIn[34], line 25\u001b[0m, in \u001b[0;36mplotData\u001b[0;34m(train_audios, test_audios, train_dir, test_dir)\u001b[0m\n\u001b[1;32m     23\u001b[0m plt\u001b[38;5;241m.\u001b[39mtitle(\u001b[38;5;124mf\u001b[39m\u001b[38;5;124m\"\u001b[39m\u001b[38;5;124mTrain Audio \u001b[39m\u001b[38;5;132;01m{\u001b[39;00mi\u001b[38;5;241m+\u001b[39m\u001b[38;5;241m1\u001b[39m\u001b[38;5;132;01m}\u001b[39;00m\u001b[38;5;124m\"\u001b[39m)\n\u001b[1;32m     24\u001b[0m librosa\u001b[38;5;241m.\u001b[39mdisplay\u001b[38;5;241m.\u001b[39mspecshow(train_stft_db, sr\u001b[38;5;241m=\u001b[39mtrain_audio_sr, x_axis\u001b[38;5;241m=\u001b[39m\u001b[38;5;124m'\u001b[39m\u001b[38;5;124mtime\u001b[39m\u001b[38;5;124m'\u001b[39m, y_axis\u001b[38;5;241m=\u001b[39m\u001b[38;5;124m'\u001b[39m\u001b[38;5;124mhz\u001b[39m\u001b[38;5;124m'\u001b[39m)\n\u001b[0;32m---> 25\u001b[0m \u001b[43mplt\u001b[49m\u001b[38;5;241;43m.\u001b[39;49m\u001b[43mcolorbar\u001b[49m\u001b[43m(\u001b[49m\u001b[43m)\u001b[49m\n\u001b[1;32m     26\u001b[0m plt\u001b[38;5;241m.\u001b[39msubplot(\u001b[38;5;241m5\u001b[39m, \u001b[38;5;241m4\u001b[39m, i\u001b[38;5;241m*\u001b[39m\u001b[38;5;241m4\u001b[39m\u001b[38;5;241m+\u001b[39m\u001b[38;5;241m4\u001b[39m)\n\u001b[1;32m     27\u001b[0m plt\u001b[38;5;241m.\u001b[39mtitle(\u001b[38;5;124mf\u001b[39m\u001b[38;5;124m\"\u001b[39m\u001b[38;5;124mTest Audio \u001b[39m\u001b[38;5;132;01m{\u001b[39;00mi\u001b[38;5;241m+\u001b[39m\u001b[38;5;241m1\u001b[39m\u001b[38;5;132;01m}\u001b[39;00m\u001b[38;5;124m\"\u001b[39m)\n",
      "File \u001b[0;32m~/anaconda3/lib/python3.10/site-packages/matplotlib/pyplot.py:2110\u001b[0m, in \u001b[0;36mcolorbar\u001b[0;34m(mappable, cax, ax, **kwargs)\u001b[0m\n\u001b[1;32m   2105\u001b[0m     \u001b[38;5;28;01mif\u001b[39;00m mappable \u001b[38;5;129;01mis\u001b[39;00m \u001b[38;5;28;01mNone\u001b[39;00m:\n\u001b[1;32m   2106\u001b[0m         \u001b[38;5;28;01mraise\u001b[39;00m \u001b[38;5;167;01mRuntimeError\u001b[39;00m(\u001b[38;5;124m'\u001b[39m\u001b[38;5;124mNo mappable was found to use for colorbar \u001b[39m\u001b[38;5;124m'\u001b[39m\n\u001b[1;32m   2107\u001b[0m                            \u001b[38;5;124m'\u001b[39m\u001b[38;5;124mcreation. First define a mappable such as \u001b[39m\u001b[38;5;124m'\u001b[39m\n\u001b[1;32m   2108\u001b[0m                            \u001b[38;5;124m'\u001b[39m\u001b[38;5;124man image (with imshow) or a contour set (\u001b[39m\u001b[38;5;124m'\u001b[39m\n\u001b[1;32m   2109\u001b[0m                            \u001b[38;5;124m'\u001b[39m\u001b[38;5;124mwith contourf).\u001b[39m\u001b[38;5;124m'\u001b[39m)\n\u001b[0;32m-> 2110\u001b[0m ret \u001b[38;5;241m=\u001b[39m \u001b[43mgcf\u001b[49m\u001b[43m(\u001b[49m\u001b[43m)\u001b[49m\u001b[38;5;241;43m.\u001b[39;49m\u001b[43mcolorbar\u001b[49m\u001b[43m(\u001b[49m\u001b[43mmappable\u001b[49m\u001b[43m,\u001b[49m\u001b[43m \u001b[49m\u001b[43mcax\u001b[49m\u001b[38;5;241;43m=\u001b[39;49m\u001b[43mcax\u001b[49m\u001b[43m,\u001b[49m\u001b[43m \u001b[49m\u001b[43max\u001b[49m\u001b[38;5;241;43m=\u001b[39;49m\u001b[43max\u001b[49m\u001b[43m,\u001b[49m\u001b[43m \u001b[49m\u001b[38;5;241;43m*\u001b[39;49m\u001b[38;5;241;43m*\u001b[39;49m\u001b[43mkwargs\u001b[49m\u001b[43m)\u001b[49m\n\u001b[1;32m   2111\u001b[0m \u001b[38;5;28;01mreturn\u001b[39;00m ret\n",
      "File \u001b[0;32m~/anaconda3/lib/python3.10/site-packages/matplotlib/figure.py:1266\u001b[0m, in \u001b[0;36mFigureBase.colorbar\u001b[0;34m(self, mappable, cax, ax, use_gridspec, **kwargs)\u001b[0m\n\u001b[1;32m   1263\u001b[0m current_ax \u001b[38;5;241m=\u001b[39m \u001b[38;5;28mself\u001b[39m\u001b[38;5;241m.\u001b[39mgca()\n\u001b[1;32m   1264\u001b[0m userax \u001b[38;5;241m=\u001b[39m \u001b[38;5;28;01mFalse\u001b[39;00m\n\u001b[1;32m   1265\u001b[0m \u001b[38;5;28;01mif\u001b[39;00m (use_gridspec\n\u001b[0;32m-> 1266\u001b[0m         \u001b[38;5;129;01mand\u001b[39;00m \u001b[38;5;28misinstance\u001b[39m(ax, \u001b[43mmpl\u001b[49m\u001b[38;5;241;43m.\u001b[39;49m\u001b[43maxes\u001b[49m\u001b[38;5;241m.\u001b[39m_base\u001b[38;5;241m.\u001b[39m_AxesBase)\n\u001b[1;32m   1267\u001b[0m         \u001b[38;5;129;01mand\u001b[39;00m ax\u001b[38;5;241m.\u001b[39mget_subplotspec()):\n\u001b[1;32m   1268\u001b[0m     cax, kwargs \u001b[38;5;241m=\u001b[39m cbar\u001b[38;5;241m.\u001b[39mmake_axes_gridspec(ax, \u001b[38;5;241m*\u001b[39m\u001b[38;5;241m*\u001b[39mkwargs)\n\u001b[1;32m   1269\u001b[0m \u001b[38;5;28;01melse\u001b[39;00m:\n",
      "File \u001b[0;32m~/anaconda3/lib/python3.10/site-packages/matplotlib/_api/__init__.py:226\u001b[0m, in \u001b[0;36mcaching_module_getattr.<locals>.__getattr__\u001b[0;34m(name)\u001b[0m\n\u001b[1;32m    224\u001b[0m \u001b[38;5;28;01mif\u001b[39;00m name \u001b[38;5;129;01min\u001b[39;00m props:\n\u001b[1;32m    225\u001b[0m     \u001b[38;5;28;01mreturn\u001b[39;00m props[name]\u001b[38;5;241m.\u001b[39m\u001b[38;5;21m__get__\u001b[39m(instance)\n\u001b[0;32m--> 226\u001b[0m \u001b[38;5;28;01mraise\u001b[39;00m \u001b[38;5;167;01mAttributeError\u001b[39;00m(\n\u001b[1;32m    227\u001b[0m     \u001b[38;5;124mf\u001b[39m\u001b[38;5;124m\"\u001b[39m\u001b[38;5;124mmodule \u001b[39m\u001b[38;5;132;01m{\u001b[39;00m\u001b[38;5;28mcls\u001b[39m\u001b[38;5;241m.\u001b[39m\u001b[38;5;18m__module__\u001b[39m\u001b[38;5;132;01m!r}\u001b[39;00m\u001b[38;5;124m has no attribute \u001b[39m\u001b[38;5;132;01m{\u001b[39;00mname\u001b[38;5;132;01m!r}\u001b[39;00m\u001b[38;5;124m\"\u001b[39m)\n",
      "\u001b[0;31mAttributeError\u001b[0m: module 'matplotlib' has no attribute 'axes'"
     ]
    }
   ],
   "source": [
    "plotData(angryTrainSample, angryTestSample, angryTrainDir, angryTestDir)"
   ]
  },
  {
   "cell_type": "code",
   "execution_count": null,
   "id": "86daed11",
   "metadata": {},
   "outputs": [],
   "source": []
  }
 ],
 "metadata": {
  "kernelspec": {
   "display_name": "Python 3 (ipykernel)",
   "language": "python",
   "name": "python3"
  },
  "language_info": {
   "codemirror_mode": {
    "name": "ipython",
    "version": 3
   },
   "file_extension": ".py",
   "mimetype": "text/x-python",
   "name": "python",
   "nbconvert_exporter": "python",
   "pygments_lexer": "ipython3",
   "version": "3.10.9"
  }
 },
 "nbformat": 4,
 "nbformat_minor": 5
}
